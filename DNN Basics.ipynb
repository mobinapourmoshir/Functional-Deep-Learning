{
  "nbformat": 4,
  "nbformat_minor": 0,
  "metadata": {
    "colab": {
      "provenance": [],
      "authorship_tag": "ABX9TyOoTb/VZlvQxXDD7y1bx3gW",
      "include_colab_link": true
    },
    "kernelspec": {
      "name": "python3",
      "display_name": "Python 3"
    },
    "language_info": {
      "name": "python"
    }
  },
  "cells": [
    {
      "cell_type": "markdown",
      "metadata": {
        "id": "view-in-github",
        "colab_type": "text"
      },
      "source": [
        "<a href=\"https://colab.research.google.com/github/mobinapourmoshir/Functional-Deep-Learning/blob/main/DNN%20Basics.ipynb\" target=\"_parent\"><img src=\"https://colab.research.google.com/assets/colab-badge.svg\" alt=\"Open In Colab\"/></a>"
      ]
    },
    {
      "cell_type": "code",
      "execution_count": 1,
      "metadata": {
        "id": "Q2X1JaKy-iN1"
      },
      "outputs": [],
      "source": [
        "# Libraries\n",
        "from sklearn.datasets import load_iris\n",
        "import pandas as pd"
      ]
    },
    {
      "cell_type": "code",
      "source": [
        "# Load the Iris dataset\n",
        "iris = load_iris()\n",
        "print(iris.keys())"
      ],
      "metadata": {
        "colab": {
          "base_uri": "https://localhost:8080/"
        },
        "id": "pNfKIbOH-p4k",
        "outputId": "2fbe121a-9874-48bf-f93f-ad059a929acb"
      },
      "execution_count": 2,
      "outputs": [
        {
          "output_type": "stream",
          "name": "stdout",
          "text": [
            "dict_keys(['data', 'target', 'frame', 'target_names', 'DESCR', 'feature_names', 'filename', 'data_module'])\n"
          ]
        }
      ]
    },
    {
      "cell_type": "markdown",
      "source": [
        "The loaded dataset is a Bunch object (scikit-learn datasets), which is similar to a dictionary. It contains:\n",
        "\n",
        "- data: The feature matrix (sepal length, sepal width, petal length, petal width)\n",
        "- target: The target labels (species of iris flower: 0, 1, 2)\n",
        "- feature_names: Names of the features\n",
        "- target_names: Names of the target classes (setosa, versicolor, virginica)\n",
        "- DESCR: A description of the dataset\n",
        "\n",
        "To convert it to a data frame using pandas:"
      ],
      "metadata": {
        "id": "KpKcw0PU-vg7"
      }
    },
    {
      "cell_type": "code",
      "source": [
        "df = pd.DataFrame(data=iris.data, columns=iris.feature_names)\n",
        "print(df.head())"
      ],
      "metadata": {
        "colab": {
          "base_uri": "https://localhost:8080/"
        },
        "id": "neh8c4qV-3CE",
        "outputId": "aecef47f-618b-4485-ac59-cc60df476ee6"
      },
      "execution_count": 3,
      "outputs": [
        {
          "output_type": "stream",
          "name": "stdout",
          "text": [
            "   sepal length (cm)  sepal width (cm)  petal length (cm)  petal width (cm)\n",
            "0                5.1               3.5                1.4               0.2\n",
            "1                4.9               3.0                1.4               0.2\n",
            "2                4.7               3.2                1.3               0.2\n",
            "3                4.6               3.1                1.5               0.2\n",
            "4                5.0               3.6                1.4               0.2\n"
          ]
        }
      ]
    },
    {
      "cell_type": "markdown",
      "source": [
        "## Difference between Tensor data set and data loader\n",
        "\n",
        "**Tensor:** just multi-dimensional arrays, like an extension of lists in Python.\n",
        "\n",
        "**TensorDataset:** Imagine a data with features (input data) and labels (answers). TensorDataset pairs them together so you can access each input with its label. Combines multiple tensors (e.g., features X and labels y) into a dataset so that each sample can be accessed as a tuple (X[i], y[i]).\n",
        "\n",
        "**DataLoader:** Provides an iterator over a dataset to feed data into a model in mini-batches. Handles batching, shuffling, and parallel loading automatically."
      ],
      "metadata": {
        "id": "5KAzHAwQ-5KL"
      }
    },
    {
      "cell_type": "code",
      "source": [
        "##### Tensor #####\n",
        "import torch\n",
        "\n",
        "# 1D tensor\n",
        "a = torch.tensor([1, 2, 3])\n",
        "print(a)\n",
        "print(a.shape)  # (3,)\n",
        "print(\"--------\")\n",
        "# 2D tensor\n",
        "b = torch.tensor([[1, 2], [3, 4]])\n",
        "print(b)\n",
        "print(b.shape)  # (2, 2)"
      ],
      "metadata": {
        "colab": {
          "base_uri": "https://localhost:8080/"
        },
        "id": "IYEySvkj__1j",
        "outputId": "f4771f7c-e424-4423-811a-5fb2f06b30e9"
      },
      "execution_count": 6,
      "outputs": [
        {
          "output_type": "stream",
          "name": "stdout",
          "text": [
            "tensor([1, 2, 3])\n",
            "torch.Size([3])\n",
            "--------\n",
            "tensor([[1, 2],\n",
            "        [3, 4]])\n",
            "torch.Size([2, 2])\n"
          ]
        }
      ]
    },
    {
      "cell_type": "code",
      "source": [
        "##### Tensor Dataset #####\n",
        "from torch.utils.data import TensorDataset\n",
        "\n",
        "X = torch.tensor([[1,2], [3,4], [5,6]])  # features\n",
        "y = torch.tensor([0, 1, 0])             # labels\n",
        "\n",
        "dataset = TensorDataset(X, y)\n",
        "print(dataset[0])"
      ],
      "metadata": {
        "colab": {
          "base_uri": "https://localhost:8080/"
        },
        "id": "GNO7-Gr-AOpl",
        "outputId": "5f917eb7-6e94-4b54-902e-220d6372f981"
      },
      "execution_count": 10,
      "outputs": [
        {
          "output_type": "stream",
          "name": "stdout",
          "text": [
            "(tensor([1, 2]), tensor(0))\n"
          ]
        }
      ]
    },
    {
      "cell_type": "markdown",
      "source": [
        "The DataLoader returns a different result each time because it shuffles the data and selects batches randomly during each iteration."
      ],
      "metadata": {
        "id": "t-FvIOQSCGKr"
      }
    },
    {
      "cell_type": "code",
      "source": [
        "##### DataLoaders #####\n",
        "from torch.utils.data import DataLoader\n",
        "\n",
        "loader = DataLoader(dataset, batch_size=2, shuffle=True)\n",
        "\n",
        "for batch_X, batch_y in loader:\n",
        "    print(\"batch_X: \", batch_X)\n",
        "    print(\"batch_y: \", batch_y)"
      ],
      "metadata": {
        "colab": {
          "base_uri": "https://localhost:8080/"
        },
        "id": "p4VyOIINAp7k",
        "outputId": "53246415-6ed4-409b-b131-0ab652c7aeaf"
      },
      "execution_count": 15,
      "outputs": [
        {
          "output_type": "stream",
          "name": "stdout",
          "text": [
            "batch_X:  tensor([[5, 6],\n",
            "        [1, 2]])\n",
            "batch_y:  tensor([0, 0])\n",
            "batch_X:  tensor([[3, 4]])\n",
            "batch_y:  tensor([1])\n"
          ]
        }
      ]
    }
  ]
}