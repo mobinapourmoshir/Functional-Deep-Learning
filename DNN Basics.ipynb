{
  "nbformat": 4,
  "nbformat_minor": 0,
  "metadata": {
    "colab": {
      "provenance": [],
      "authorship_tag": "ABX9TyMgK033ThE7kbXdcFlSytJ4",
      "include_colab_link": true
    },
    "kernelspec": {
      "name": "python3",
      "display_name": "Python 3"
    },
    "language_info": {
      "name": "python"
    }
  },
  "cells": [
    {
      "cell_type": "markdown",
      "metadata": {
        "id": "view-in-github",
        "colab_type": "text"
      },
      "source": [
        "<a href=\"https://colab.research.google.com/github/mobinapourmoshir/Functional-Deep-Learning/blob/main/DNN%20Basics.ipynb\" target=\"_parent\"><img src=\"https://colab.research.google.com/assets/colab-badge.svg\" alt=\"Open In Colab\"/></a>"
      ]
    },
    {
      "cell_type": "code",
      "execution_count": 1,
      "metadata": {
        "id": "Q2X1JaKy-iN1"
      },
      "outputs": [],
      "source": [
        "# Libraries\n",
        "from sklearn.datasets import load_iris\n",
        "import pandas as pd\n",
        "import torch"
      ]
    },
    {
      "cell_type": "code",
      "source": [
        "# Load the Iris dataset\n",
        "iris = load_iris()\n",
        "print(iris.keys())"
      ],
      "metadata": {
        "colab": {
          "base_uri": "https://localhost:8080/"
        },
        "id": "pNfKIbOH-p4k",
        "outputId": "2fbe121a-9874-48bf-f93f-ad059a929acb"
      },
      "execution_count": 2,
      "outputs": [
        {
          "output_type": "stream",
          "name": "stdout",
          "text": [
            "dict_keys(['data', 'target', 'frame', 'target_names', 'DESCR', 'feature_names', 'filename', 'data_module'])\n"
          ]
        }
      ]
    },
    {
      "cell_type": "markdown",
      "source": [
        "The loaded dataset is a Bunch object (scikit-learn datasets), which is similar to a dictionary. It contains:\n",
        "\n",
        "- data: The feature matrix (sepal length, sepal width, petal length, petal width)\n",
        "- target: The target labels (species of iris flower: 0, 1, 2)\n",
        "- feature_names: Names of the features\n",
        "- target_names: Names of the target classes (setosa, versicolor, virginica)\n",
        "- DESCR: A description of the dataset\n",
        "\n",
        "To convert it to a data frame using pandas:"
      ],
      "metadata": {
        "id": "KpKcw0PU-vg7"
      }
    },
    {
      "cell_type": "code",
      "source": [
        "df = pd.DataFrame(data=iris.data, columns=iris.feature_names)\n",
        "print(df.head())"
      ],
      "metadata": {
        "colab": {
          "base_uri": "https://localhost:8080/"
        },
        "id": "neh8c4qV-3CE",
        "outputId": "aecef47f-618b-4485-ac59-cc60df476ee6"
      },
      "execution_count": 3,
      "outputs": [
        {
          "output_type": "stream",
          "name": "stdout",
          "text": [
            "   sepal length (cm)  sepal width (cm)  petal length (cm)  petal width (cm)\n",
            "0                5.1               3.5                1.4               0.2\n",
            "1                4.9               3.0                1.4               0.2\n",
            "2                4.7               3.2                1.3               0.2\n",
            "3                4.6               3.1                1.5               0.2\n",
            "4                5.0               3.6                1.4               0.2\n"
          ]
        }
      ]
    },
    {
      "cell_type": "markdown",
      "source": [
        "## Difference between Tensor data set and data loader\n",
        "\n",
        "**Tensor:** just multi-dimensional arrays, like an extension of lists in Python.\n",
        "\n",
        "**TensorDataset:** Assume features (input data) and labels (answers). TensorDataset pairs them together so you can access each input with its label.\n",
        "\n",
        "**DataLoader:** Feeds your data in batches to a model so you don’t have to handle one sample at a time. Can also shuffle the data for training."
      ],
      "metadata": {
        "id": "5KAzHAwQ-5KL"
      }
    },
    {
      "cell_type": "markdown",
      "source": [],
      "metadata": {
        "id": "5pZ_BFju_n_0"
      }
    }
  ]
}